{
 "cells": [
  {
   "cell_type": "code",
   "execution_count": 16,
   "id": "96552dcd",
   "metadata": {},
   "outputs": [],
   "source": [
    "import numpy as np \n",
    "import pandas as pd\n",
    "import seaborn as sns\n",
    "import matplotlib.pyplot as plt"
   ]
  },
  {
   "cell_type": "markdown",
   "id": "431f2774",
   "metadata": {},
   "source": [
    "# Standard Deviation"
   ]
  },
  {
   "cell_type": "code",
   "execution_count": 2,
   "id": "7cc09749",
   "metadata": {},
   "outputs": [],
   "source": [
    "# Example data\n",
    "data = np.array([23, 25, 22, 27, 21, 24, 26, 100, 23, 28, 22, 29])"
   ]
  },
  {
   "cell_type": "code",
   "execution_count": 3,
   "id": "388db873",
   "metadata": {},
   "outputs": [],
   "source": [
    "mean = np.mean(data)\n",
    "std_dev = np.std(data)"
   ]
  },
  {
   "cell_type": "code",
   "execution_count": 5,
   "id": "09fa9612",
   "metadata": {},
   "outputs": [],
   "source": [
    "threshold = 3\n",
    "z_scores = [(x-mean)/std_dev for x in data]"
   ]
  },
  {
   "cell_type": "code",
   "execution_count": 8,
   "id": "fadb56a3",
   "metadata": {},
   "outputs": [],
   "source": [
    "outliers = [data[i] for i, z in enumerate(z_scores) if abs(z)>threshold]"
   ]
  },
  {
   "cell_type": "code",
   "execution_count": 9,
   "id": "98caf4e4",
   "metadata": {},
   "outputs": [
    {
     "name": "stdout",
     "output_type": "stream",
     "text": [
      "Original Data: [ 23  25  22  27  21  24  26 100  23  28  22  29]\n",
      "Outliers detected using Z-score: [100]\n"
     ]
    }
   ],
   "source": [
    "print(\"Original Data:\", data)\n",
    "print(\"Outliers detected using Z-score:\", outliers)"
   ]
  },
  {
   "cell_type": "code",
   "execution_count": 10,
   "id": "26746ba8",
   "metadata": {},
   "outputs": [],
   "source": [
    "#From Dataset\n",
    "data = pd.read_csv(\"scholarship.csv\")"
   ]
  },
  {
   "cell_type": "code",
   "execution_count": 11,
   "id": "84a22fa8",
   "metadata": {},
   "outputs": [
    {
     "name": "stdout",
     "output_type": "stream",
     "text": [
      "<class 'pandas.core.frame.DataFrame'>\n",
      "RangeIndex: 1000 entries, 0 to 999\n",
      "Data columns (total 3 columns):\n",
      " #   Column                  Non-Null Count  Dtype  \n",
      "---  ------                  --------------  -----  \n",
      " 0   semester_percentage     1000 non-null   float64\n",
      " 1   scholarship_exam_marks  1000 non-null   int64  \n",
      " 2   got_scholarship         1000 non-null   int64  \n",
      "dtypes: float64(1), int64(2)\n",
      "memory usage: 23.6 KB\n"
     ]
    }
   ],
   "source": [
    "data.info()"
   ]
  },
  {
   "cell_type": "code",
   "execution_count": 12,
   "id": "7487af08",
   "metadata": {},
   "outputs": [
    {
     "data": {
      "text/html": [
       "<div>\n",
       "<style scoped>\n",
       "    .dataframe tbody tr th:only-of-type {\n",
       "        vertical-align: middle;\n",
       "    }\n",
       "\n",
       "    .dataframe tbody tr th {\n",
       "        vertical-align: top;\n",
       "    }\n",
       "\n",
       "    .dataframe thead th {\n",
       "        text-align: right;\n",
       "    }\n",
       "</style>\n",
       "<table border=\"1\" class=\"dataframe\">\n",
       "  <thead>\n",
       "    <tr style=\"text-align: right;\">\n",
       "      <th></th>\n",
       "      <th>semester_percentage</th>\n",
       "      <th>scholarship_exam_marks</th>\n",
       "      <th>got_scholarship</th>\n",
       "    </tr>\n",
       "  </thead>\n",
       "  <tbody>\n",
       "    <tr>\n",
       "      <th>0</th>\n",
       "      <td>71.9</td>\n",
       "      <td>26</td>\n",
       "      <td>1</td>\n",
       "    </tr>\n",
       "    <tr>\n",
       "      <th>1</th>\n",
       "      <td>74.6</td>\n",
       "      <td>38</td>\n",
       "      <td>1</td>\n",
       "    </tr>\n",
       "    <tr>\n",
       "      <th>2</th>\n",
       "      <td>75.4</td>\n",
       "      <td>40</td>\n",
       "      <td>1</td>\n",
       "    </tr>\n",
       "    <tr>\n",
       "      <th>3</th>\n",
       "      <td>64.2</td>\n",
       "      <td>8</td>\n",
       "      <td>1</td>\n",
       "    </tr>\n",
       "    <tr>\n",
       "      <th>4</th>\n",
       "      <td>72.3</td>\n",
       "      <td>17</td>\n",
       "      <td>0</td>\n",
       "    </tr>\n",
       "  </tbody>\n",
       "</table>\n",
       "</div>"
      ],
      "text/plain": [
       "   semester_percentage  scholarship_exam_marks  got_scholarship\n",
       "0                 71.9                      26                1\n",
       "1                 74.6                      38                1\n",
       "2                 75.4                      40                1\n",
       "3                 64.2                       8                1\n",
       "4                 72.3                      17                0"
      ]
     },
     "execution_count": 12,
     "metadata": {},
     "output_type": "execute_result"
    }
   ],
   "source": [
    "data.head(5)"
   ]
  },
  {
   "cell_type": "code",
   "execution_count": 26,
   "id": "579815f0",
   "metadata": {},
   "outputs": [
    {
     "name": "stderr",
     "output_type": "stream",
     "text": [
      "C:\\Users\\User\\AppData\\Local\\Temp\\ipykernel_15632\\2316524126.py:2: UserWarning: \n",
      "\n",
      "`distplot` is a deprecated function and will be removed in seaborn v0.14.0.\n",
      "\n",
      "Please adapt your code to use either `displot` (a figure-level function with\n",
      "similar flexibility) or `histplot` (an axes-level function for histograms).\n",
      "\n",
      "For a guide to updating your code to use the new functions, please see\n",
      "https://gist.github.com/mwaskom/de44147ed2974457ad6372750bbe5751\n",
      "\n",
      "  sns.distplot(data[\"semester_percentage\"])\n"
     ]
    },
    {
     "data": {
      "image/png": "[encoded data removed]",
      "text/plain": [
       "<Figure size 640x480 with 1 Axes>"
      ]
     },
     "metadata": {},
     "output_type": "display_data"
    }
   ],
   "source": [
    "plt.subplot(1, 2, 1)\n",
    "sns.distplot(data[\"semester_percentage\"])\n",
    "plt.show()"
   ]
  },
  {
   "cell_type": "code",
   "execution_count": null,
   "id": "151c4a6b",
   "metadata": {},
   "outputs": [],
   "source": [
    "print(\"Mean = \", data[\"semester_percentage\"].mean())\n",
    "print(\"Std = \" ,data[\"semester_percentage\"].std())\n",
    "print(\"Max = \" ,data[\"semester_percentage\"].max())\n",
    "print(\"Min = \" ,data[\"semester_percentage\"].min())"
   ]
  },
  {
   "cell_type": "code",
   "execution_count": 23,
   "id": "bb0c18f1",
   "metadata": {},
   "outputs": [
    {
     "name": "stdout",
     "output_type": "stream",
     "text": [
      "Highest allowed =  88.08933625397168\n",
      "Lowest allowed =  51.13546374602831\n"
     ]
    }
   ],
   "source": [
    "# Boundary values\n",
    "print(\"Highest allowed = \", data[\"semester_percentage\"].mean()+ 3* data[\"semester_percentage\"].std() )\n",
    "print(\"Lowest allowed = \", data[\"semester_percentage\"].mean()- 3* data[\"semester_percentage\"].std() )"
   ]
  },
  {
   "cell_type": "code",
   "execution_count": 27,
   "id": "5043241f",
   "metadata": {},
   "outputs": [
    {
     "data": {
      "text/html": [
       "<div>\n",
       "<style scoped>\n",
       "    .dataframe tbody tr th:only-of-type {\n",
       "        vertical-align: middle;\n",
       "    }\n",
       "\n",
       "    .dataframe tbody tr th {\n",
       "        vertical-align: top;\n",
       "    }\n",
       "\n",
       "    .dataframe thead th {\n",
       "        text-align: right;\n",
       "    }\n",
       "</style>\n",
       "<table border=\"1\" class=\"dataframe\">\n",
       "  <thead>\n",
       "    <tr style=\"text-align: right;\">\n",
       "      <th></th>\n",
       "      <th>semester_percentage</th>\n",
       "      <th>scholarship_exam_marks</th>\n",
       "      <th>got_scholarship</th>\n",
       "    </tr>\n",
       "  </thead>\n",
       "  <tbody>\n",
       "    <tr>\n",
       "      <th>485</th>\n",
       "      <td>49.2</td>\n",
       "      <td>44</td>\n",
       "      <td>1</td>\n",
       "    </tr>\n",
       "    <tr>\n",
       "      <th>995</th>\n",
       "      <td>88.7</td>\n",
       "      <td>44</td>\n",
       "      <td>1</td>\n",
       "    </tr>\n",
       "    <tr>\n",
       "      <th>996</th>\n",
       "      <td>91.2</td>\n",
       "      <td>65</td>\n",
       "      <td>1</td>\n",
       "    </tr>\n",
       "    <tr>\n",
       "      <th>997</th>\n",
       "      <td>48.9</td>\n",
       "      <td>34</td>\n",
       "      <td>0</td>\n",
       "    </tr>\n",
       "    <tr>\n",
       "      <th>999</th>\n",
       "      <td>49.0</td>\n",
       "      <td>10</td>\n",
       "      <td>1</td>\n",
       "    </tr>\n",
       "  </tbody>\n",
       "</table>\n",
       "</div>"
      ],
      "text/plain": [
       "     semester_percentage  scholarship_exam_marks  got_scholarship\n",
       "485                 49.2                      44                1\n",
       "995                 88.7                      44                1\n",
       "996                 91.2                      65                1\n",
       "997                 48.9                      34                0\n",
       "999                 49.0                      10                1"
      ]
     },
     "execution_count": 27,
     "metadata": {},
     "output_type": "execute_result"
    }
   ],
   "source": [
    "# Outliers we need to exclude\n",
    "data[(data[\"semester_percentage\"]<51.13) | (data[\"semester_percentage\"]>88.08)]"
   ]
  },
  {
   "cell_type": "code",
   "execution_count": 29,
   "id": "851559a2",
   "metadata": {},
   "outputs": [
    {
     "data": {
      "text/html": [
       "<div>\n",
       "<style scoped>\n",
       "    .dataframe tbody tr th:only-of-type {\n",
       "        vertical-align: middle;\n",
       "    }\n",
       "\n",
       "    .dataframe tbody tr th {\n",
       "        vertical-align: top;\n",
       "    }\n",
       "\n",
       "    .dataframe thead th {\n",
       "        text-align: right;\n",
       "    }\n",
       "</style>\n",
       "<table border=\"1\" class=\"dataframe\">\n",
       "  <thead>\n",
       "    <tr style=\"text-align: right;\">\n",
       "      <th></th>\n",
       "      <th>semester_percentage</th>\n",
       "      <th>scholarship_exam_marks</th>\n",
       "      <th>got_scholarship</th>\n",
       "      <th>z_score</th>\n",
       "    </tr>\n",
       "  </thead>\n",
       "  <tbody>\n",
       "    <tr>\n",
       "      <th>0</th>\n",
       "      <td>71.9</td>\n",
       "      <td>26</td>\n",
       "      <td>1</td>\n",
       "      <td>0.371425</td>\n",
       "    </tr>\n",
       "    <tr>\n",
       "      <th>1</th>\n",
       "      <td>74.6</td>\n",
       "      <td>38</td>\n",
       "      <td>1</td>\n",
       "      <td>0.809810</td>\n",
       "    </tr>\n",
       "    <tr>\n",
       "      <th>2</th>\n",
       "      <td>75.4</td>\n",
       "      <td>40</td>\n",
       "      <td>1</td>\n",
       "      <td>0.939701</td>\n",
       "    </tr>\n",
       "    <tr>\n",
       "      <th>3</th>\n",
       "      <td>64.2</td>\n",
       "      <td>8</td>\n",
       "      <td>1</td>\n",
       "      <td>-0.878782</td>\n",
       "    </tr>\n",
       "    <tr>\n",
       "      <th>4</th>\n",
       "      <td>72.3</td>\n",
       "      <td>17</td>\n",
       "      <td>0</td>\n",
       "      <td>0.436371</td>\n",
       "    </tr>\n",
       "    <tr>\n",
       "      <th>...</th>\n",
       "      <td>...</td>\n",
       "      <td>...</td>\n",
       "      <td>...</td>\n",
       "      <td>...</td>\n",
       "    </tr>\n",
       "    <tr>\n",
       "      <th>991</th>\n",
       "      <td>70.4</td>\n",
       "      <td>57</td>\n",
       "      <td>0</td>\n",
       "      <td>0.127878</td>\n",
       "    </tr>\n",
       "    <tr>\n",
       "      <th>992</th>\n",
       "      <td>62.6</td>\n",
       "      <td>12</td>\n",
       "      <td>0</td>\n",
       "      <td>-1.138565</td>\n",
       "    </tr>\n",
       "    <tr>\n",
       "      <th>993</th>\n",
       "      <td>67.3</td>\n",
       "      <td>21</td>\n",
       "      <td>1</td>\n",
       "      <td>-0.375452</td>\n",
       "    </tr>\n",
       "    <tr>\n",
       "      <th>994</th>\n",
       "      <td>64.8</td>\n",
       "      <td>63</td>\n",
       "      <td>0</td>\n",
       "      <td>-0.781363</td>\n",
       "    </tr>\n",
       "    <tr>\n",
       "      <th>998</th>\n",
       "      <td>86.2</td>\n",
       "      <td>46</td>\n",
       "      <td>1</td>\n",
       "      <td>2.693239</td>\n",
       "    </tr>\n",
       "  </tbody>\n",
       "</table>\n",
       "<p>995 rows × 4 columns</p>\n",
       "</div>"
      ],
      "text/plain": [
       "     semester_percentage  scholarship_exam_marks  got_scholarship   z_score\n",
       "0                   71.9                      26                1  0.371425\n",
       "1                   74.6                      38                1  0.809810\n",
       "2                   75.4                      40                1  0.939701\n",
       "3                   64.2                       8                1 -0.878782\n",
       "4                   72.3                      17                0  0.436371\n",
       "..                   ...                     ...              ...       ...\n",
       "991                 70.4                      57                0  0.127878\n",
       "992                 62.6                      12                0 -1.138565\n",
       "993                 67.3                      21                1 -0.375452\n",
       "994                 64.8                      63                0 -0.781363\n",
       "998                 86.2                      46                1  2.693239\n",
       "\n",
       "[995 rows x 4 columns]"
      ]
     },
     "execution_count": 29,
     "metadata": {},
     "output_type": "execute_result"
    }
   ],
   "source": [
    "# Trimming\n",
    "data[(data[\"semester_percentage\"]>51.13) & (data[\"semester_percentage\"]<88.08)]"
   ]
  },
  {
   "cell_type": "code",
   "execution_count": 30,
   "id": "20b517f3",
   "metadata": {},
   "outputs": [],
   "source": [
    "data[\"z_score\"] = (data[\"semester_percentage\"]-data[\"semester_percentage\"].mean())/data[\"semester_percentage\"].std()"
   ]
  },
  {
   "cell_type": "code",
   "execution_count": 34,
   "id": "2cbe1058",
   "metadata": {},
   "outputs": [
    {
     "data": {
      "text/html": [
       "<div>\n",
       "<style scoped>\n",
       "    .dataframe tbody tr th:only-of-type {\n",
       "        vertical-align: middle;\n",
       "    }\n",
       "\n",
       "    .dataframe tbody tr th {\n",
       "        vertical-align: top;\n",
       "    }\n",
       "\n",
       "    .dataframe thead th {\n",
       "        text-align: right;\n",
       "    }\n",
       "</style>\n",
       "<table border=\"1\" class=\"dataframe\">\n",
       "  <thead>\n",
       "    <tr style=\"text-align: right;\">\n",
       "      <th></th>\n",
       "      <th>semester_percentage</th>\n",
       "      <th>scholarship_exam_marks</th>\n",
       "      <th>got_scholarship</th>\n",
       "      <th>z_score</th>\n",
       "    </tr>\n",
       "  </thead>\n",
       "  <tbody>\n",
       "    <tr>\n",
       "      <th>485</th>\n",
       "      <td>49.2</td>\n",
       "      <td>44</td>\n",
       "      <td>1</td>\n",
       "      <td>-3.314251</td>\n",
       "    </tr>\n",
       "    <tr>\n",
       "      <th>995</th>\n",
       "      <td>88.7</td>\n",
       "      <td>44</td>\n",
       "      <td>1</td>\n",
       "      <td>3.099150</td>\n",
       "    </tr>\n",
       "    <tr>\n",
       "      <th>996</th>\n",
       "      <td>91.2</td>\n",
       "      <td>65</td>\n",
       "      <td>1</td>\n",
       "      <td>3.505062</td>\n",
       "    </tr>\n",
       "    <tr>\n",
       "      <th>997</th>\n",
       "      <td>48.9</td>\n",
       "      <td>34</td>\n",
       "      <td>0</td>\n",
       "      <td>-3.362960</td>\n",
       "    </tr>\n",
       "    <tr>\n",
       "      <th>999</th>\n",
       "      <td>49.0</td>\n",
       "      <td>10</td>\n",
       "      <td>1</td>\n",
       "      <td>-3.346724</td>\n",
       "    </tr>\n",
       "  </tbody>\n",
       "</table>\n",
       "</div>"
      ],
      "text/plain": [
       "     semester_percentage  scholarship_exam_marks  got_scholarship   z_score\n",
       "485                 49.2                      44                1 -3.314251\n",
       "995                 88.7                      44                1  3.099150\n",
       "996                 91.2                      65                1  3.505062\n",
       "997                 48.9                      34                0 -3.362960\n",
       "999                 49.0                      10                1 -3.346724"
      ]
     },
     "execution_count": 34,
     "metadata": {},
     "output_type": "execute_result"
    }
   ],
   "source": [
    "# Outliers\n",
    "data[(data[\"z_score\"]<-3) | (data[\"z_score\"]>3)]"
   ]
  },
  {
   "cell_type": "code",
   "execution_count": 35,
   "id": "db8c2566",
   "metadata": {},
   "outputs": [
    {
     "data": {
      "text/html": [
       "<div>\n",
       "<style scoped>\n",
       "    .dataframe tbody tr th:only-of-type {\n",
       "        vertical-align: middle;\n",
       "    }\n",
       "\n",
       "    .dataframe tbody tr th {\n",
       "        vertical-align: top;\n",
       "    }\n",
       "\n",
       "    .dataframe thead th {\n",
       "        text-align: right;\n",
       "    }\n",
       "</style>\n",
       "<table border=\"1\" class=\"dataframe\">\n",
       "  <thead>\n",
       "    <tr style=\"text-align: right;\">\n",
       "      <th></th>\n",
       "      <th>semester_percentage</th>\n",
       "      <th>scholarship_exam_marks</th>\n",
       "      <th>got_scholarship</th>\n",
       "      <th>z_score</th>\n",
       "    </tr>\n",
       "  </thead>\n",
       "  <tbody>\n",
       "    <tr>\n",
       "      <th>0</th>\n",
       "      <td>71.9</td>\n",
       "      <td>26</td>\n",
       "      <td>1</td>\n",
       "      <td>0.371425</td>\n",
       "    </tr>\n",
       "    <tr>\n",
       "      <th>1</th>\n",
       "      <td>74.6</td>\n",
       "      <td>38</td>\n",
       "      <td>1</td>\n",
       "      <td>0.809810</td>\n",
       "    </tr>\n",
       "    <tr>\n",
       "      <th>2</th>\n",
       "      <td>75.4</td>\n",
       "      <td>40</td>\n",
       "      <td>1</td>\n",
       "      <td>0.939701</td>\n",
       "    </tr>\n",
       "    <tr>\n",
       "      <th>3</th>\n",
       "      <td>64.2</td>\n",
       "      <td>8</td>\n",
       "      <td>1</td>\n",
       "      <td>-0.878782</td>\n",
       "    </tr>\n",
       "    <tr>\n",
       "      <th>4</th>\n",
       "      <td>72.3</td>\n",
       "      <td>17</td>\n",
       "      <td>0</td>\n",
       "      <td>0.436371</td>\n",
       "    </tr>\n",
       "    <tr>\n",
       "      <th>...</th>\n",
       "      <td>...</td>\n",
       "      <td>...</td>\n",
       "      <td>...</td>\n",
       "      <td>...</td>\n",
       "    </tr>\n",
       "    <tr>\n",
       "      <th>991</th>\n",
       "      <td>70.4</td>\n",
       "      <td>57</td>\n",
       "      <td>0</td>\n",
       "      <td>0.127878</td>\n",
       "    </tr>\n",
       "    <tr>\n",
       "      <th>992</th>\n",
       "      <td>62.6</td>\n",
       "      <td>12</td>\n",
       "      <td>0</td>\n",
       "      <td>-1.138565</td>\n",
       "    </tr>\n",
       "    <tr>\n",
       "      <th>993</th>\n",
       "      <td>67.3</td>\n",
       "      <td>21</td>\n",
       "      <td>1</td>\n",
       "      <td>-0.375452</td>\n",
       "    </tr>\n",
       "    <tr>\n",
       "      <th>994</th>\n",
       "      <td>64.8</td>\n",
       "      <td>63</td>\n",
       "      <td>0</td>\n",
       "      <td>-0.781363</td>\n",
       "    </tr>\n",
       "    <tr>\n",
       "      <th>998</th>\n",
       "      <td>86.2</td>\n",
       "      <td>46</td>\n",
       "      <td>1</td>\n",
       "      <td>2.693239</td>\n",
       "    </tr>\n",
       "  </tbody>\n",
       "</table>\n",
       "<p>995 rows × 4 columns</p>\n",
       "</div>"
      ],
      "text/plain": [
       "     semester_percentage  scholarship_exam_marks  got_scholarship   z_score\n",
       "0                   71.9                      26                1  0.371425\n",
       "1                   74.6                      38                1  0.809810\n",
       "2                   75.4                      40                1  0.939701\n",
       "3                   64.2                       8                1 -0.878782\n",
       "4                   72.3                      17                0  0.436371\n",
       "..                   ...                     ...              ...       ...\n",
       "991                 70.4                      57                0  0.127878\n",
       "992                 62.6                      12                0 -1.138565\n",
       "993                 67.3                      21                1 -0.375452\n",
       "994                 64.8                      63                0 -0.781363\n",
       "998                 86.2                      46                1  2.693239\n",
       "\n",
       "[995 rows x 4 columns]"
      ]
     },
     "execution_count": 35,
     "metadata": {},
     "output_type": "execute_result"
    }
   ],
   "source": [
    "# Desired Values\n",
    "data[(data[\"z_score\"]>-3) & (data[\"z_score\"]<3)]"
   ]
  },
  {
   "cell_type": "markdown",
   "id": "e4bb050f",
   "metadata": {},
   "source": [
    "Capping"
   ]
  },
  {
   "cell_type": "code",
   "execution_count": 36,
   "id": "86eae44f",
   "metadata": {},
   "outputs": [],
   "source": [
    "upper_limit = data[\"semester_percentage\"].mean()+ 3*data[\"semester_percentage\"].std()\n",
    "lower_limit = data[\"semester_percentage\"].mean()- 3*data[\"semester_percentage\"].std()"
   ]
  },
  {
   "cell_type": "code",
   "execution_count": 37,
   "id": "5dd83857",
   "metadata": {},
   "outputs": [
    {
     "name": "stdout",
     "output_type": "stream",
     "text": [
      "88.08933625397168 , 51.13546374602831\n"
     ]
    }
   ],
   "source": [
    "print (upper_limit,\",\",lower_limit)"
   ]
  },
  {
   "cell_type": "code",
   "execution_count": 39,
   "id": "eaf18d69",
   "metadata": {},
   "outputs": [],
   "source": [
    "data[\"semester_percentage\"]=np.where(data[\"semester_percentage\"]>upper_limit,upper_limit, data[\"semester_percentage\"])"
   ]
  },
  {
   "cell_type": "code",
   "execution_count": 40,
   "id": "303aa796",
   "metadata": {},
   "outputs": [],
   "source": [
    "data[\"semester_percentage\"]=np.where(data[\"semester_percentage\"]<lower_limit,lower_limit, data[\"semester_percentage\"])"
   ]
  },
  {
   "cell_type": "code",
   "execution_count": 41,
   "id": "6df17b25",
   "metadata": {},
   "outputs": [
    {
     "data": {
      "text/html": [
       "<div>\n",
       "<style scoped>\n",
       "    .dataframe tbody tr th:only-of-type {\n",
       "        vertical-align: middle;\n",
       "    }\n",
       "\n",
       "    .dataframe tbody tr th {\n",
       "        vertical-align: top;\n",
       "    }\n",
       "\n",
       "    .dataframe thead th {\n",
       "        text-align: right;\n",
       "    }\n",
       "</style>\n",
       "<table border=\"1\" class=\"dataframe\">\n",
       "  <thead>\n",
       "    <tr style=\"text-align: right;\">\n",
       "      <th></th>\n",
       "      <th>semester_percentage</th>\n",
       "      <th>scholarship_exam_marks</th>\n",
       "      <th>got_scholarship</th>\n",
       "      <th>z_score</th>\n",
       "    </tr>\n",
       "  </thead>\n",
       "  <tbody>\n",
       "    <tr>\n",
       "      <th>0</th>\n",
       "      <td>71.900000</td>\n",
       "      <td>26</td>\n",
       "      <td>1</td>\n",
       "      <td>0.371425</td>\n",
       "    </tr>\n",
       "    <tr>\n",
       "      <th>1</th>\n",
       "      <td>74.600000</td>\n",
       "      <td>38</td>\n",
       "      <td>1</td>\n",
       "      <td>0.809810</td>\n",
       "    </tr>\n",
       "    <tr>\n",
       "      <th>2</th>\n",
       "      <td>75.400000</td>\n",
       "      <td>40</td>\n",
       "      <td>1</td>\n",
       "      <td>0.939701</td>\n",
       "    </tr>\n",
       "    <tr>\n",
       "      <th>3</th>\n",
       "      <td>64.200000</td>\n",
       "      <td>8</td>\n",
       "      <td>1</td>\n",
       "      <td>-0.878782</td>\n",
       "    </tr>\n",
       "    <tr>\n",
       "      <th>4</th>\n",
       "      <td>72.300000</td>\n",
       "      <td>17</td>\n",
       "      <td>0</td>\n",
       "      <td>0.436371</td>\n",
       "    </tr>\n",
       "    <tr>\n",
       "      <th>...</th>\n",
       "      <td>...</td>\n",
       "      <td>...</td>\n",
       "      <td>...</td>\n",
       "      <td>...</td>\n",
       "    </tr>\n",
       "    <tr>\n",
       "      <th>995</th>\n",
       "      <td>88.089336</td>\n",
       "      <td>44</td>\n",
       "      <td>1</td>\n",
       "      <td>3.099150</td>\n",
       "    </tr>\n",
       "    <tr>\n",
       "      <th>996</th>\n",
       "      <td>88.089336</td>\n",
       "      <td>65</td>\n",
       "      <td>1</td>\n",
       "      <td>3.505062</td>\n",
       "    </tr>\n",
       "    <tr>\n",
       "      <th>997</th>\n",
       "      <td>51.135464</td>\n",
       "      <td>34</td>\n",
       "      <td>0</td>\n",
       "      <td>-3.362960</td>\n",
       "    </tr>\n",
       "    <tr>\n",
       "      <th>998</th>\n",
       "      <td>86.200000</td>\n",
       "      <td>46</td>\n",
       "      <td>1</td>\n",
       "      <td>2.693239</td>\n",
       "    </tr>\n",
       "    <tr>\n",
       "      <th>999</th>\n",
       "      <td>51.135464</td>\n",
       "      <td>10</td>\n",
       "      <td>1</td>\n",
       "      <td>-3.346724</td>\n",
       "    </tr>\n",
       "  </tbody>\n",
       "</table>\n",
       "<p>1000 rows × 4 columns</p>\n",
       "</div>"
      ],
      "text/plain": [
       "     semester_percentage  scholarship_exam_marks  got_scholarship   z_score\n",
       "0              71.900000                      26                1  0.371425\n",
       "1              74.600000                      38                1  0.809810\n",
       "2              75.400000                      40                1  0.939701\n",
       "3              64.200000                       8                1 -0.878782\n",
       "4              72.300000                      17                0  0.436371\n",
       "..                   ...                     ...              ...       ...\n",
       "995            88.089336                      44                1  3.099150\n",
       "996            88.089336                      65                1  3.505062\n",
       "997            51.135464                      34                0 -3.362960\n",
       "998            86.200000                      46                1  2.693239\n",
       "999            51.135464                      10                1 -3.346724\n",
       "\n",
       "[1000 rows x 4 columns]"
      ]
     },
     "execution_count": 41,
     "metadata": {},
     "output_type": "execute_result"
    }
   ],
   "source": [
    "data"
   ]
  },
  {
   "cell_type": "markdown",
   "id": "a1dc28d4",
   "metadata": {},
   "source": [
    "# IQR"
   ]
  },
  {
   "cell_type": "code",
   "execution_count": 42,
   "id": "642960c9",
   "metadata": {},
   "outputs": [],
   "source": [
    "data2 = pd.read_csv(\"scholarship.csv\")"
   ]
  },
  {
   "cell_type": "code",
   "execution_count": 62,
   "id": "57f7f732",
   "metadata": {},
   "outputs": [
    {
     "data": {
      "text/plain": [
       "0.8356419499466834"
      ]
     },
     "execution_count": 62,
     "metadata": {},
     "output_type": "execute_result"
    }
   ],
   "source": [
    "data2[\"scholarship_exam_marks\"].skew()"
   ]
  },
  {
   "cell_type": "code",
   "execution_count": 63,
   "id": "ad69f05c",
   "metadata": {},
   "outputs": [
    {
     "data": {
      "text/plain": [
       "count    1000.000000\n",
       "mean       32.225000\n",
       "std        19.130822\n",
       "min         0.000000\n",
       "25%        17.000000\n",
       "50%        28.000000\n",
       "75%        44.000000\n",
       "max       100.000000\n",
       "Name: scholarship_exam_marks, dtype: float64"
      ]
     },
     "execution_count": 63,
     "metadata": {},
     "output_type": "execute_result"
    }
   ],
   "source": [
    "data2[\"scholarship_exam_marks\"].describe()"
   ]
  },
  {
   "cell_type": "code",
   "execution_count": 64,
   "id": "eca0b3dd",
   "metadata": {},
   "outputs": [
    {
     "data": {
      "text/plain": [
       "<Axes: >"
      ]
     },
     "execution_count": 64,
     "metadata": {},
     "output_type": "execute_result"
    },
    {
     "data": {
      "image/png": "[encoded data removed]",
      "text/plain": [
       "<Figure size 640x480 with 1 Axes>"
      ]
     },
     "metadata": {},
     "output_type": "display_data"
    }
   ],
   "source": [
    "sns.boxplot(data2[\"scholarship_exam_marks\"])"
   ]
  },
  {
   "cell_type": "code",
   "execution_count": 65,
   "id": "8ce00754",
   "metadata": {},
   "outputs": [],
   "source": [
    "Q1=data2[\"scholarship_exam_marks\"].quantile(0.25)\n",
    "Q2=data2[\"scholarship_exam_marks\"].quantile(0.50)\n",
    "Q3=data2[\"scholarship_exam_marks\"].quantile(0.75)"
   ]
  },
  {
   "cell_type": "code",
   "execution_count": 49,
   "id": "ad1e52fe",
   "metadata": {},
   "outputs": [],
   "source": [
    "IQR=Q3-Q1"
   ]
  },
  {
   "cell_type": "code",
   "execution_count": 50,
   "id": "73859b88",
   "metadata": {},
   "outputs": [],
   "source": [
    "min=Q1-1.5*IQR\n",
    "max=Q3+1.5*IQR"
   ]
  },
  {
   "cell_type": "code",
   "execution_count": 52,
   "id": "4172bda4",
   "metadata": {},
   "outputs": [
    {
     "name": "stdout",
     "output_type": "stream",
     "text": [
      "27.0 , 17.0 , 44.0 , 84.5 , -23.5\n"
     ]
    }
   ],
   "source": [
    "print (IQR,\",\",Q1,\",\",Q3,\",\",max,\",\",min)"
   ]
  },
  {
   "cell_type": "code",
   "execution_count": 66,
   "id": "166b4db7",
   "metadata": {},
   "outputs": [],
   "source": [
    "# Trimming\n",
    "new_data = data2[(data2[\"scholarship_exam_marks\"]>min) & (data2[\"scholarship_exam_marks\"]<max)]"
   ]
  },
  {
   "cell_type": "code",
   "execution_count": 54,
   "id": "0121128c",
   "metadata": {},
   "outputs": [
    {
     "data": {
      "text/html": [
       "<div>\n",
       "<style scoped>\n",
       "    .dataframe tbody tr th:only-of-type {\n",
       "        vertical-align: middle;\n",
       "    }\n",
       "\n",
       "    .dataframe tbody tr th {\n",
       "        vertical-align: top;\n",
       "    }\n",
       "\n",
       "    .dataframe thead th {\n",
       "        text-align: right;\n",
       "    }\n",
       "</style>\n",
       "<table border=\"1\" class=\"dataframe\">\n",
       "  <thead>\n",
       "    <tr style=\"text-align: right;\">\n",
       "      <th></th>\n",
       "      <th>semester_percentage</th>\n",
       "      <th>scholarship_exam_marks</th>\n",
       "      <th>got_scholarship</th>\n",
       "      <th>z_score</th>\n",
       "    </tr>\n",
       "  </thead>\n",
       "  <tbody>\n",
       "    <tr>\n",
       "      <th>0</th>\n",
       "      <td>71.900000</td>\n",
       "      <td>26</td>\n",
       "      <td>1</td>\n",
       "      <td>0.371425</td>\n",
       "    </tr>\n",
       "    <tr>\n",
       "      <th>1</th>\n",
       "      <td>74.600000</td>\n",
       "      <td>38</td>\n",
       "      <td>1</td>\n",
       "      <td>0.809810</td>\n",
       "    </tr>\n",
       "    <tr>\n",
       "      <th>2</th>\n",
       "      <td>75.400000</td>\n",
       "      <td>40</td>\n",
       "      <td>1</td>\n",
       "      <td>0.939701</td>\n",
       "    </tr>\n",
       "    <tr>\n",
       "      <th>3</th>\n",
       "      <td>64.200000</td>\n",
       "      <td>8</td>\n",
       "      <td>1</td>\n",
       "      <td>-0.878782</td>\n",
       "    </tr>\n",
       "    <tr>\n",
       "      <th>4</th>\n",
       "      <td>72.300000</td>\n",
       "      <td>17</td>\n",
       "      <td>0</td>\n",
       "      <td>0.436371</td>\n",
       "    </tr>\n",
       "    <tr>\n",
       "      <th>...</th>\n",
       "      <td>...</td>\n",
       "      <td>...</td>\n",
       "      <td>...</td>\n",
       "      <td>...</td>\n",
       "    </tr>\n",
       "    <tr>\n",
       "      <th>995</th>\n",
       "      <td>88.089336</td>\n",
       "      <td>44</td>\n",
       "      <td>1</td>\n",
       "      <td>3.099150</td>\n",
       "    </tr>\n",
       "    <tr>\n",
       "      <th>996</th>\n",
       "      <td>88.089336</td>\n",
       "      <td>65</td>\n",
       "      <td>1</td>\n",
       "      <td>3.505062</td>\n",
       "    </tr>\n",
       "    <tr>\n",
       "      <th>997</th>\n",
       "      <td>51.135464</td>\n",
       "      <td>34</td>\n",
       "      <td>0</td>\n",
       "      <td>-3.362960</td>\n",
       "    </tr>\n",
       "    <tr>\n",
       "      <th>998</th>\n",
       "      <td>86.200000</td>\n",
       "      <td>46</td>\n",
       "      <td>1</td>\n",
       "      <td>2.693239</td>\n",
       "    </tr>\n",
       "    <tr>\n",
       "      <th>999</th>\n",
       "      <td>51.135464</td>\n",
       "      <td>10</td>\n",
       "      <td>1</td>\n",
       "      <td>-3.346724</td>\n",
       "    </tr>\n",
       "  </tbody>\n",
       "</table>\n",
       "<p>985 rows × 4 columns</p>\n",
       "</div>"
      ],
      "text/plain": [
       "     semester_percentage  scholarship_exam_marks  got_scholarship   z_score\n",
       "0              71.900000                      26                1  0.371425\n",
       "1              74.600000                      38                1  0.809810\n",
       "2              75.400000                      40                1  0.939701\n",
       "3              64.200000                       8                1 -0.878782\n",
       "4              72.300000                      17                0  0.436371\n",
       "..                   ...                     ...              ...       ...\n",
       "995            88.089336                      44                1  3.099150\n",
       "996            88.089336                      65                1  3.505062\n",
       "997            51.135464                      34                0 -3.362960\n",
       "998            86.200000                      46                1  2.693239\n",
       "999            51.135464                      10                1 -3.346724\n",
       "\n",
       "[985 rows x 4 columns]"
      ]
     },
     "execution_count": 54,
     "metadata": {},
     "output_type": "execute_result"
    }
   ],
   "source": [
    "new_data"
   ]
  },
  {
   "cell_type": "code",
   "execution_count": 67,
   "id": "c219393a",
   "metadata": {},
   "outputs": [
    {
     "name": "stderr",
     "output_type": "stream",
     "text": [
      "C:\\Users\\User\\AppData\\Local\\Temp\\ipykernel_15632\\3635752401.py:3: UserWarning: \n",
      "\n",
      "`distplot` is a deprecated function and will be removed in seaborn v0.14.0.\n",
      "\n",
      "Please adapt your code to use either `displot` (a figure-level function with\n",
      "similar flexibility) or `histplot` (an axes-level function for histograms).\n",
      "\n",
      "For a guide to updating your code to use the new functions, please see\n",
      "https://gist.github.com/mwaskom/de44147ed2974457ad6372750bbe5751\n",
      "\n",
      "  sns.distplot(data2[\"scholarship_exam_marks\"])\n",
      "C:\\Users\\User\\AppData\\Local\\Temp\\ipykernel_15632\\3635752401.py:9: UserWarning: \n",
      "\n",
      "`distplot` is a deprecated function and will be removed in seaborn v0.14.0.\n",
      "\n",
      "Please adapt your code to use either `displot` (a figure-level function with\n",
      "similar flexibility) or `histplot` (an axes-level function for histograms).\n",
      "\n",
      "For a guide to updating your code to use the new functions, please see\n",
      "https://gist.github.com/mwaskom/de44147ed2974457ad6372750bbe5751\n",
      "\n",
      "  sns.distplot(new_data[\"scholarship_exam_marks\"])\n"
     ]
    },
    {
     "data": {
      "image/png": "[encoded data removed]",
      "text/plain": [
       "<Figure size 1600x800 with 4 Axes>"
      ]
     },
     "metadata": {},
     "output_type": "display_data"
    }
   ],
   "source": [
    "plt.figure(figsize=(16,8))\n",
    "plt.subplot(2,2,1)\n",
    "sns.distplot(data2[\"scholarship_exam_marks\"])\n",
    "\n",
    "plt.subplot(2,2,2)\n",
    "sns.boxplot(data2[\"scholarship_exam_marks\"])\n",
    "\n",
    "plt.subplot(2,2,3)\n",
    "sns.distplot(new_data[\"scholarship_exam_marks\"])\n",
    "\n",
    "plt.subplot(2,2,4)\n",
    "sns.boxplot(new_data[\"scholarship_exam_marks\"])\n",
    "\n",
    "plt.show()"
   ]
  },
  {
   "cell_type": "code",
   "execution_count": 68,
   "id": "8cb25557",
   "metadata": {},
   "outputs": [],
   "source": [
    "# Capping\n",
    "new_data2 = data2.copy()\n",
    "new_data2[\"scholarship_exam_marks\"] = np.where(data2[\"scholarship_exam_marks\"]>max,\n",
    "         max, \n",
    "         np.where(data2[\"scholarship_exam_marks\"]<min,min, data2[\"scholarship_exam_marks\"]))"
   ]
  },
  {
   "cell_type": "code",
   "execution_count": 69,
   "id": "9929a651",
   "metadata": {},
   "outputs": [
    {
     "data": {
      "text/plain": [
       "(1000, 3)"
      ]
     },
     "execution_count": 69,
     "metadata": {},
     "output_type": "execute_result"
    }
   ],
   "source": [
    "data2.shape"
   ]
  },
  {
   "cell_type": "code",
   "execution_count": 60,
   "id": "8dc16ec5",
   "metadata": {},
   "outputs": [
    {
     "data": {
      "text/plain": [
       "(1000, 4)"
      ]
     },
     "execution_count": 60,
     "metadata": {},
     "output_type": "execute_result"
    }
   ],
   "source": [
    "new_data2.shape"
   ]
  },
  {
   "cell_type": "code",
   "execution_count": 70,
   "id": "c309958d",
   "metadata": {},
   "outputs": [
    {
     "data": {
      "text/plain": [
       "count    1000.000000\n",
       "mean       32.136500\n",
       "std        18.865419\n",
       "min         0.000000\n",
       "25%        17.000000\n",
       "50%        28.000000\n",
       "75%        44.000000\n",
       "max        84.500000\n",
       "Name: scholarship_exam_marks, dtype: float64"
      ]
     },
     "execution_count": 70,
     "metadata": {},
     "output_type": "execute_result"
    }
   ],
   "source": [
    "new_data2[\"scholarship_exam_marks\"].describe()"
   ]
  },
  {
   "cell_type": "code",
   "execution_count": 72,
   "id": "27015d4a",
   "metadata": {},
   "outputs": [
    {
     "data": {
      "text/plain": [
       "count    1000.000000\n",
       "mean       32.225000\n",
       "std        19.130822\n",
       "min         0.000000\n",
       "25%        17.000000\n",
       "50%        28.000000\n",
       "75%        44.000000\n",
       "max       100.000000\n",
       "Name: scholarship_exam_marks, dtype: float64"
      ]
     },
     "execution_count": 72,
     "metadata": {},
     "output_type": "execute_result"
    }
   ],
   "source": [
    "data2[\"scholarship_exam_marks\"].describe()"
   ]
  },
  {
   "cell_type": "code",
   "execution_count": null,
   "id": "7c2aad2d",
   "metadata": {},
   "outputs": [],
   "source": []
  }
 ],
 "metadata": {
  "kernelspec": {
   "display_name": "Python 3 (ipykernel)",
   "language": "python",
   "name": "python3"
  },
  "language_info": {
   "codemirror_mode": {
    "name": "ipython",
    "version": 3
   },
   "file_extension": ".py",
   "mimetype": "text/x-python",
   "name": "python",
   "nbconvert_exporter": "python",
   "pygments_lexer": "ipython3",
   "version": "3.11.5"
  }
 },
 "nbformat": 4,
 "nbformat_minor": 5
}
